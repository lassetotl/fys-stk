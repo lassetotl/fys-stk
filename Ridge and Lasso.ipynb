{
 "cells": [
  {
   "cell_type": "markdown",
   "id": "d69b6392",
   "metadata": {},
   "source": [
    "# Ridge and Lasso analysis of Franke's function"
   ]
  },
  {
   "cell_type": "markdown",
   "id": "73367862",
   "metadata": {},
   "source": [
    "### defining imports"
   ]
  },
  {
   "cell_type": "code",
   "execution_count": 1,
   "id": "4ae3fb6b",
   "metadata": {},
   "outputs": [],
   "source": [
    "#All imports\n",
    "import numpy as np\n",
    "import random\n",
    "from mpl_toolkits.mplot3d import Axes3D\n",
    "import matplotlib.pyplot as plt\n",
    "from matplotlib import cm\n",
    "from matplotlib.ticker import LinearLocator, FormatStrFormatter\n",
    "from sklearn.model_selection import train_test_split\n",
    "from sklearn.linear_model import LinearRegression\n",
    "from sklearn.utils import resample\n",
    "from sklearn.linear_model import LinearRegression, Ridge, Lasso\n",
    "\n",
    "import warnings\n",
    "warnings.filterwarnings('ignore')"
   ]
  },
  {
   "cell_type": "markdown",
   "id": "af296143",
   "metadata": {},
   "source": [
    "### Defining functions for later use"
   ]
  },
  {
   "cell_type": "markdown",
   "id": "5e10197b",
   "metadata": {},
   "source": [
    "#### Function for 3D plotting"
   ]
  },
  {
   "cell_type": "code",
   "execution_count": 2,
   "id": "5deb715f",
   "metadata": {},
   "outputs": [],
   "source": [
    "#Quick Plotting function\n",
    "\n",
    "def plotting3D(x, y, z, text):\n",
    "    fig = plt.figure(figsize = (13, 7))\n",
    "    ax = fig.add_subplot(projection='3d') #\n",
    "\n",
    "\n",
    "    surf = ax.plot_surface(x, y, z, cmap = cm.coolwarm,\n",
    "    linewidth = 0, antialiased = False)\n",
    "\n",
    "    #predict_surf = ax.plot_trisurf(x, y, zpredict, cmap = cm.coolwarm,\n",
    "    #linewidth = 0, antialiased = False)\n",
    "    # Customize the z axis.\n",
    "    ax.set_zlim(-0.10, 1.40)\n",
    "    ax.zaxis.set_major_locator(LinearLocator(10))\n",
    "    ax.zaxis.set_major_formatter(FormatStrFormatter('%.02f'))\n",
    "\n",
    "    # Add a color bar which maps values to colors.\n",
    "    fig.colorbar(surf, shrink=0.5, aspect=5)\n",
    "    plt.title(text, fontsize = 15)\n",
    "    plt.show()"
   ]
  },
  {
   "cell_type": "markdown",
   "id": "96016d44",
   "metadata": {},
   "source": [
    "#### Function for R2 and MSE estimates"
   ]
  },
  {
   "cell_type": "code",
   "execution_count": 3,
   "id": "16f5a247",
   "metadata": {},
   "outputs": [],
   "source": [
    "#MSE and R2\n",
    "#Taken from courses jupyterbook\n",
    "def R2(y_data, y_model):\n",
    "    return 1 - np.sum((y_data - y_model) ** 2) / np.sum((y_data - np.mean(y_data)) ** 2)\n",
    "\n",
    "def MSE(y_data,y_model):\n",
    "    n = np.size(y_model)\n",
    "    return np.sum((y_data-y_model)**2)/n"
   ]
  },
  {
   "cell_type": "markdown",
   "id": "15b5c0e4",
   "metadata": {},
   "source": [
    "#### Franke's function"
   ]
  },
  {
   "cell_type": "code",
   "execution_count": 4,
   "id": "b91340c2",
   "metadata": {},
   "outputs": [],
   "source": [
    "#Franke function:\n",
    "#Taken from assignment paper\n",
    "def FrankeFunction(x,y):\n",
    "    term1 = 0.75*np.exp(-(0.25*(9*x-2)**2) - 0.25*((9*y-2)**2))\n",
    "    term2 = 0.75*np.exp(-((9*x+1)**2)/49.0 - 0.1*(9*y+1))\n",
    "    term3 = 0.5*np.exp(-(9*x-7)**2/4.0 - 0.25*((9*y-3)**2))\n",
    "    term4 = -0.2*np.exp(-(9*x-4)**2 - (9*y-7)**2)\n",
    "    return term1 + term2 + term3 + term4"
   ]
  },
  {
   "cell_type": "markdown",
   "id": "462c2213",
   "metadata": {},
   "source": [
    "#### Function for creating design matrix"
   ]
  },
  {
   "cell_type": "code",
   "execution_count": 5,
   "id": "7043463c",
   "metadata": {},
   "outputs": [],
   "source": [
    "#Function that creates design matrix for Franke's function\n",
    "#Taken from courses jupyterbook\n",
    "def create_X(x, y, n): #design matrices for polynomials up to 10th degree\n",
    "    if len(x.shape) > 1:\n",
    "        x = np.ravel(x)\n",
    "        y = np.ravel(y)\n",
    "\n",
    "    N = len(x)\n",
    "    l = int((n+1)*(n+2)/2) # Number of elements in beta\n",
    "    #print(f'Features/Length beta: {l}') #what amount should we expect?\n",
    "    X = np.ones((N,l))\n",
    "\n",
    "    for i in range(1,n+1):\n",
    "        q = int((i)*(i+1)/2)\n",
    "        for k in range(i+1):\n",
    "            X[:,q+k] = (x**(i-k))*(y**k)\n",
    "    return X"
   ]
  },
  {
   "cell_type": "markdown",
   "id": "dc1ef3e5",
   "metadata": {},
   "source": [
    "#### Function for performing bootstrap resampling method for OLS"
   ]
  },
  {
   "cell_type": "code",
   "execution_count": 6,
   "id": "30367325",
   "metadata": {},
   "outputs": [],
   "source": [
    "#Bootstrap function for OLS\n",
    "def bootstrap(X, z, bootstrap_n):\n",
    "    beta = np.zeros([bootstrap_n, np.shape(X)[1]])\n",
    "    n_samples = np.shape(X)[0] - 10\n",
    "    for i in range(bootstrap_n):\n",
    "        X_n, z_n = resample(X, z, replace=True, n_samples=None)\n",
    "        beta[i] = np.linalg.pinv(X_n.T @ X_n) @ X_n.T @ z_n\n",
    "    beta_bootstrapped = np.mean(beta, axis=0)\n",
    "    \n",
    "    return beta_bootstrapped"
   ]
  },
  {
   "cell_type": "markdown",
   "id": "cffa4676",
   "metadata": {},
   "source": [
    "#### Function for performing bootstrap resampling method for Ridge"
   ]
  },
  {
   "cell_type": "code",
   "execution_count": 7,
   "id": "374ef932",
   "metadata": {},
   "outputs": [],
   "source": [
    "#Bootstrap function for Ridge with defined lambda\n",
    "def bootstrap_ridge(X, z, bootstrap_n, lambd):\n",
    "    beta = np.zeros([bootstrap_n, np.shape(X)[1]])\n",
    "    n_samples = np.shape(X)[0] - 10\n",
    "    I = np.eye(np.shape(X_train)[1],np.shape(X_train)[1])\n",
    "    for i in range(bootstrap_n):\n",
    "        X_n, z_n = resample(X, z, replace=True, n_samples=None)\n",
    "        beta[i] = np.linalg.pinv(X_n.T @ X_n + lambd*I) @ X_n.T @ z_n\n",
    "    beta_bootstrapped = np.mean(beta, axis=0)\n",
    "    \n",
    "    return beta_bootstrapped"
   ]
  },
  {
   "cell_type": "markdown",
   "id": "71ecb329",
   "metadata": {},
   "source": [
    "#### Ridge analysis with sklearn"
   ]
  },
  {
   "cell_type": "code",
   "execution_count": 8,
   "id": "d80af46b",
   "metadata": {},
   "outputs": [],
   "source": [
    "def RidgeAnalysis_bootstrap(n_bootstrap, lmd, X_train, X_test, z_train, z_test):\n",
    "    z_pred = np.empty((n_bootstraps, z_test.shape[0]))\n",
    "    for i in range(n_bootstrap):\n",
    "        X_train_, z_trian_ = resample(X_train, z_train)\n",
    "        ridge = Ridge(alpha = lmd)\n",
    "        ridge.fit(X_train, z_train)\n",
    "        z_pred[i] = ridge.predict(X_test).ravel()\n",
    "    z_pred_f = np.mean(z_pred, axis = 0)\n",
    "    \n",
    "    return z_pred"
   ]
  },
  {
   "cell_type": "markdown",
   "id": "b8dd9d8b",
   "metadata": {},
   "source": [
    "### Generating vanilla datapoints with noise"
   ]
  },
  {
   "cell_type": "code",
   "execution_count": 9,
   "id": "6f3b4974",
   "metadata": {},
   "outputs": [],
   "source": [
    "N = 40 #Number of datapoints\n",
    "x = np.sort(np.random.uniform(0, 1, N))\n",
    "y = np.sort(np.random.uniform(0, 1, N))\n",
    "\n",
    "x_, y_ = np.meshgrid(x,y)\n",
    "\n",
    "#Adding noise:\n",
    "var = 0.1\n",
    "noise = np.random.normal(0, var, len(x_)*len(x_))\n",
    "noise = noise.reshape(len(x_), len(x_))\n",
    "\n",
    "z_noNoise = FrankeFunction(x_, y_)\n",
    "z =  FrankeFunction(x_, y_) + noise \n",
    "\n",
    "#plotting3D(x_, y_, z_noNoise, \"plot of our surface without noise\")\n",
    "#plotting3D(x_, y_, z, \"plot of our surface with noise\")\n",
    "\n",
    "#Choose the complexity of our approximation to be polynomial degree 5.\n",
    "#Creating design matrix\n",
    "X = create_X(x_, y_, n = 5)\n",
    "#Splitting the data into test and train sets\n",
    "X_train, X_test, z_train, z_test = train_test_split(X, np.ravel(z), test_size=0.2, shuffle=True)"
   ]
  },
  {
   "cell_type": "markdown",
   "id": "7173bd41",
   "metadata": {},
   "source": [
    "### Finding the optimal lambda value for our Ridge approximation with scaling"
   ]
  },
  {
   "cell_type": "code",
   "execution_count": 10,
   "id": "7c4cd88f",
   "metadata": {},
   "outputs": [],
   "source": [
    "nlambdas = 100 #number of trial lambdas\n",
    "lambdas = np.logspace(-15,15, nlambdas)\n",
    "\n",
    "\n",
    "#Scaling the dataset:\n",
    "X_train_scaled = X_train - np.mean(X_train)\n",
    "z_train_scaled = z_train - np.mean(z_train)\n",
    "\n",
    "MSE_predict = np.zeros(nlambdas)\n",
    "MSE_predict_bootstrap = np.zeros(nlambdas)\n",
    "I = np.eye(np.shape(X_train)[1],np.shape(X_train)[1]) #Defining the identity matrix that is used to calculate RidgeBeta\n",
    "for i in range(nlambdas):\n",
    "    lmb = lambdas[i]\n",
    "    RidgeBeta = np.linalg.inv(X_train_scaled.T@X_train_scaled + lmb*I) @ X_train_scaled.T @ z_train_scaled\n",
    "    X_test_un = X_test - np.mean(X_train)\n",
    "    z_pred = (X_test_un @ RidgeBeta) + np.mean(z_train)\n",
    "    MSE_predict[i] = MSE(np.ravel(z_test), z_pred)\n",
    "    \n",
    "#     RidgeBetaBootstrap =  bootstrap_ridge(X_train_scaled, z_train_scaled, bootstrap_n = 50, lambd = lmb)\n",
    "#     z_pred_bootstrap = (X_test @ RidgeBetaBootstrap) + np.mean(z_train)\n",
    "#     MSE_predict_bootstrap[i] = MSE(np.ravel(z_test), z_pred_bootstrap)"
   ]
  },
  {
   "cell_type": "code",
   "execution_count": 11,
   "id": "97426e7a",
   "metadata": {},
   "outputs": [
    {
     "name": "stdout",
     "output_type": "stream",
     "text": [
      "The most optimal lambda is 0.000\n",
      "with MSE value of 0.010314483647820121\n"
     ]
    }
   ],
   "source": [
    "#Finding the optimal value\n",
    "min_value_index = np.where(MSE_predict == np.min(MSE_predict))\n",
    "formatted_lambda = (\"{:.3f}\".format(lambdas[min_value_index][0]))\n",
    "print(f\"The most optimal lambda is {formatted_lambda}\")\n",
    "print(f\"with MSE value of {MSE_predict[min_value_index][0]}\")"
   ]
  },
  {
   "cell_type": "markdown",
   "id": "d61e1f40",
   "metadata": {},
   "source": [
    "#### Visualization"
   ]
  },
  {
   "cell_type": "code",
   "execution_count": 12,
   "id": "19380e18",
   "metadata": {},
   "outputs": [
    {
     "data": {
      "image/png": "[encoded data removed]",
      "text/plain": [
       "<Figure size 432x288 with 1 Axes>"
      ]
     },
     "metadata": {
      "needs_background": "light"
     },
     "output_type": "display_data"
    }
   ],
   "source": [
    "plt.plot(np.log10(lambdas), MSE_predict, 'b--', label = 'MSE Ridge Test')\n",
    "plt.plot(np.log10(lambdas[min_value_index][0]), MSE_predict[min_value_index][0], 'ro', label = f\"lambda = {formatted_lambda}\")\n",
    "#plt.plot(np.log10(lambdas), MSE_predict_bootstrap, 'r--', label = 'MSE Ridge Test with bootstrap')\n",
    "plt.xlabel('log10(lambda)')\n",
    "plt.ylabel('MSE')\n",
    "plt.grid(1)\n",
    "plt.legend()\n",
    "plt.show()"
   ]
  },
  {
   "cell_type": "markdown",
   "id": "521760dd",
   "metadata": {},
   "source": [
    "### Lasso regression"
   ]
  },
  {
   "cell_type": "code",
   "execution_count": 13,
   "id": "32d93150",
   "metadata": {},
   "outputs": [],
   "source": [
    "# Decide which values of lambda to use\n",
    "nlambdas = 100\n",
    "\n",
    "\n",
    "MSELassoPredict = np.zeros(nlambdas)\n",
    "MSELassoTrain = np.zeros(nlambdas)\n",
    "lambdas = np.logspace(-10, 10, nlambdas)\n",
    "\n",
    "#Scaling:\n",
    "X_train_scaled = X_train - np.mean(X_train)\n",
    "z_train_scaled = z_train - np.mean(z_train)\n",
    "\n",
    "for i in range(nlambdas):\n",
    "    lmb = lambdas[i]\n",
    "    RegLasso = Lasso(lmb)\n",
    "    RegLasso.fit(X_train_scaled,z_train_scaled)\n",
    "    \n",
    "    X_test_un = X_test - np.mean(X_train)\n",
    "    ypredictLasso = RegLasso.predict(X_test_un)\n",
    "    MSELassoPredict[i] = MSE(z_test,ypredictLasso) + np.mean(z_train)\n"
   ]
  },
  {
   "cell_type": "code",
   "execution_count": 14,
   "id": "2e16d0c8",
   "metadata": {},
   "outputs": [
    {
     "name": "stdout",
     "output_type": "stream",
     "text": [
      "The most optimal lambda is 0.000\n",
      "with MSE value of 0.5559262121686308\n"
     ]
    }
   ],
   "source": [
    "#Finding the optimal value\n",
    "min_value_index = np.where(MSELassoPredict == np.min(MSELassoPredict))\n",
    "formatted_lambda = (\"{:.3f}\".format(lambdas[min_value_index][0]))\n",
    "print(f\"The most optimal lambda is {formatted_lambda}\")\n",
    "print(f\"with MSE value of {MSELassoPredict[min_value_index][0]}\")"
   ]
  },
  {
   "cell_type": "code",
   "execution_count": 17,
   "id": "bab9fa2f",
   "metadata": {},
   "outputs": [
    {
     "data": {
      "image/png": "[encoded data removed]",
      "text/plain": [
       "<Figure size 432x288 with 1 Axes>"
      ]
     },
     "metadata": {
      "needs_background": "light"
     },
     "output_type": "display_data"
    }
   ],
   "source": [
    "# Now plot the results\n",
    "plt.figure()\n",
    "plt.plot(np.log10(lambdas), MSELassoPredict, 'b--', label = 'MSE Lasso Test')\n",
    "plt.plot(np.log10(lambdas[min_value_index][0]), MSELassoPredict[min_value_index][0], 'ro', label = f\"lambda = {formatted_lambda}\")\n",
    "plt.xlabel('log10(lambda)')\n",
    "plt.ylabel('MSE')\n",
    "plt.legend()\n",
    "plt.grid(True)\n",
    "plt.show()"
   ]
  },
  {
   "cell_type": "markdown",
   "id": "a4aa7c1a",
   "metadata": {},
   "source": [
    "## Extras"
   ]
  },
  {
   "cell_type": "markdown",
   "id": "f781d150",
   "metadata": {},
   "source": [
    "### Bias-variance analysis for ridge with scaling"
   ]
  },
  {
   "cell_type": "code",
   "execution_count": 16,
   "id": "10a51e9d",
   "metadata": {},
   "outputs": [
    {
     "data": {
      "image/png": "[encoded data removed]",
      "text/plain": [
       "<Figure size 504x360 with 1 Axes>"
      ]
     },
     "metadata": {
      "needs_background": "light"
     },
     "output_type": "display_data"
    }
   ],
   "source": [
    "n_boostraps = 10\n",
    "maxdegree = 20\n",
    "\n",
    "error = np.zeros(maxdegree)\n",
    "bias = np.zeros(maxdegree)\n",
    "variance = np.zeros(maxdegree)\n",
    "polydegree = np.zeros(maxdegree)\n",
    "\n",
    "\n",
    "model = Ridge(alpha = 5.77) #instance of linreg class\n",
    "\n",
    "for degree in range(maxdegree):\n",
    "    X_ = create_X(x_, y_, degree+1)\n",
    "    X_train_, X_test_, z_train_, z_test_ = train_test_split(X_, z.ravel(), test_size=0.2, random_state = 40)\n",
    "    z_pred = np.empty((z_test_.shape[0], n_boostraps))\n",
    "    \n",
    "    X_train_scaled = X_train_ - np.mean(X_train)\n",
    "    z_train_scaled = z_train_ - np.mean(z_train)\n",
    "    \n",
    "    for i in range(n_boostraps): #how to do this in 3d?\n",
    "        X_, z_ = resample(X_train_scaled, z_train_scaled)\n",
    "        X_test_un = X_test_ - np.mean(z_train_)\n",
    "        z_pred[:, i] = model.fit(X_, z_).predict(X_test_un).ravel() + np.mean(z_train)\n",
    "\n",
    "    polydegree[degree] = degree\n",
    "\n",
    "    error[degree] = np.mean( np.mean((z_test_.reshape(-1, 1) - z_pred)**2, axis=1, keepdims=True) )\n",
    "    bias[degree] = np.mean( (z_test_.reshape(-1, 1) - np.mean(z_pred, axis=1, keepdims=True))**2 )\n",
    "    variance[degree] = np.mean( np.var(z_pred, axis=1, keepdims=True) )\n",
    "    \n",
    "    \n",
    "\n",
    "fig = plt.figure(figsize = (7, 5)) \n",
    "plt.plot(polydegree, error, 'k', label='Error', linewidth = 2)\n",
    "plt.plot(polydegree, bias, 'r--', label='Bias', linewidth = 1.5)\n",
    "plt.plot(polydegree, variance, 'b--', label='Variance', linewidth = 1.5)\n",
    "plt.xlabel('Model complexity N', fontsize = 15)\n",
    "plt.legend(); plt.grid(1); plt.show()"
   ]
  },
  {
   "cell_type": "code",
   "execution_count": null,
   "id": "dcc603a0",
   "metadata": {},
   "outputs": [],
   "source": []
  }
 ],
 "metadata": {
  "kernelspec": {
   "display_name": "Python 3 (ipykernel)",
   "language": "python",
   "name": "python3"
  },
  "language_info": {
   "codemirror_mode": {
    "name": "ipython",
    "version": 3
   },
   "file_extension": ".py",
   "mimetype": "text/x-python",
   "name": "python",
   "nbconvert_exporter": "python",
   "pygments_lexer": "ipython3",
   "version": "3.10.5"
  }
 },
 "nbformat": 4,
 "nbformat_minor": 5
}
